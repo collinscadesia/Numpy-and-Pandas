{
 "cells": [
  {
   "cell_type": "markdown",
   "metadata": {},
   "source": [
    "# Data Structures\n",
    "\n",
    "One of the keys to understanding pandas is to understand the data model. At the core of pandas are two data structures. The most widely used data structures are the Series and the DataFrame for dealing with array data and tabular data. This table shows their analogs in the spreadsheet and database world.\n",
    "\n",
    "\n",
    "| Data Structure| Dimensionality| Spreadsheet Analog| Databse Analog|\n",
    "|-|-|-|-|\n",
    "|Series|1D|Column|Column|\n",
    "|DataFrame|2D|Single Sheet|Table|\n",
    "\n",
    "DataFrame is similar to a sheet with rows and columns, while a Series is similar to a single column \n",
    "of data (when we refer to a column of data in this text, we are referring to a Series).\n",
    "\n"
   ]
  },
  {
   "cell_type": "markdown",
   "metadata": {},
   "source": [
    "## Numpy"
   ]
  },
  {
   "cell_type": "markdown",
   "metadata": {},
   "source": [
    "NumPy is the fundamental package for scientific computing in Python. It is a Python library that provides a multidimensional array object, various derived objects (such as masked arrays and matrices), and an assortment of routines for fast operations on arrays, including mathematical, logical, shape manipulation, sorting, selecting, I/O, discrete Fourier transforms, basic linear algebra, basic statistical operations, random simulation and much more.\n",
    "\n",
    "At the core of the NumPy package, is the ndarray object. This encapsulates n-dimensional arrays of homogeneous data types, with many operations being performed in compiled code for performance. There are several important differences between NumPy arrays and the standard Python sequences:\n",
    "\n",
    "- NumPy arrays have a fixed size at creation, unlike Python lists (which can grow dynamically). Changing the size of an ndarray will create a new array and delete the original.\n",
    "\n",
    "- The elements in a NumPy array are all required to be of the same data type, and thus will be the same size in memory. The exception: one can have arrays of (Python, including NumPy) objects, thereby allowing for arrays of different sized elements.\n",
    "\n",
    "- NumPy arrays facilitate advanced mathematical and other types of operations on large numbers of data. Typically, such operations are executed more efficiently and with less code than is possible using Python’s built-in sequences.\n",
    "\n",
    "A growing plethora of scientific and mathematical Python-based packages are using NumPy arrays; though these typically support Python-sequence input, they convert such input to NumPy arrays prior to processing, and they often output NumPy arrays. In other words, in order to efficiently use much (perhaps even most) of today’s scientific/mathematical Python-based software, just knowing how to use Python’s built-in sequence types is insufficient - one also needs to know how to use NumPy arrays."
   ]
  },
  {
   "cell_type": "markdown",
   "metadata": {},
   "source": [
    "\"Series,\" \"DataFrame,\" \"Databases,\" and \"Excel\" are all data-related concepts or tools used in the context of managing and analyzing data.\n",
    "\n",
    " Series and DataFrames are data structures used in data analysis with Pandas in Python, while databases are used for structured data storage and retrieval, and Excel is a spreadsheet tool often used for simpler data analysis and reporting."
   ]
  },
  {
   "cell_type": "markdown",
   "metadata": {},
   "source": [
    "# Data Structures\n",
    "\n",
    "One of the keys to understanding pandas is to understand the data model. At the core of pandas are two data structures. The most widely used data structures are the Series and the DataFrame for dealing with array data and tabular data. This table shows their analogs in the spreadsheet and database world.\n",
    "\n",
    "\n",
    "| Data Structure| Dimensionality| Spreadsheet Analog| Databse Analog|\n",
    "|-|-|-|-|\n",
    "|Series|1D|Column|Column|\n",
    "|DataFrame|2D|Single Sheet|Table|\n",
    "\n",
    "DataFrame is similar to a sheet with rows and columns, while a Series is similar to a single column \n",
    "of data (when we refer to a column of data in this text, we are referring to a Series).\n",
    "\n"
   ]
  },
  {
   "cell_type": "markdown",
   "metadata": {},
   "source": [
    "## Pandas\n",
    "\n",
    "In pandas, the two-dimensional counterpart to the one-dimensional Series is the DataFrame. If we want to understand this data structure, it helps to know how it is constructed. This chapter will\n",
    "introduce the dataframe.\n",
    "\n",
    "\n",
    "Dataframes can be created from many types of input:\n",
    "- columns (dicts of lists)\n",
    "- rows (list of dicts)\n",
    "- CSV, xlsx files (pd.read_csv)\n",
    "- NumPy ndarrays\n",
    "- other: SQL, HDF5, arrow, etc"
   ]
  },
  {
   "cell_type": "markdown",
   "metadata": {},
   "source": [
    "> Just like an excel table is made up of columns, a DataFrame is made up of Series Data Types"
   ]
  },
  {
   "cell_type": "markdown",
   "metadata": {},
   "source": [
    "# Pandas Series\n",
    "\n",
    "there are two main types of operations you can perform on Series and DataFrame objects.\n",
    "these are operator methods and attributes.\n",
    "\n"
   ]
  },
  {
   "cell_type": "markdown",
   "metadata": {},
   "source": [
    "## Operator Methods\n",
    "\n",
    "A Series is used to model one-dimensional data. The Series object also has a few more bits of data,\n",
    "including an index and a name. A common idea through pandas is the notion of an axis. Because\n",
    "a series is one-dimensional, it has a single axis—the index.\n",
    "Below is a table of counts of deposits amounts by customers.\n",
    "\n",
    "\n",
    "||Data|\n",
    "|-|-|\n",
    "|0|145|\n",
    "|1|142|\n",
    "|2|38|\n",
    "|3|13| We"
   ]
  },
  {
   "cell_type": "markdown",
   "metadata": {},
   "source": [
    "### Numerical Operations"
   ]
  },
  {
   "cell_type": "markdown",
   "metadata": {},
   "source": [
    "|Method|Operator|Description|\n",
    "|-|-|-|\n",
    "|s.add(s2) | s + s2 | Adds series\n",
    "|s.radd(s2) | s2 + s | Adds series\n",
    "|s.sub(s2) | s - s2 | Subtracts series\n",
    "|s.rsub(s2) | s2 - s | Subtracts series\n",
    "|s.mul(s2) s.multiply(s2) | s * s2 | Multiplies series\n",
    "|s.rmul(s2) | s2 * s | Multiplies series\n",
    "|s.div(s2) s.truediv(s2) | s / s2 | Divides series\n",
    "|s.mod(s2) | s % s2 | Modulo of series division\n",
    "|s.eq(s2) | s2 == s | Elementwise equals of series\n",
    "|s.ne(s2) | s2 != s | Elementwise not equals of series\n",
    "|s.gt(s2) | s > 2 | Elementwise greater than of series\n",
    "|s.ge(s2) | s >= 2 | Elementwise greater than or equals of series\n",
    "|s.lt(s2) | s < 2 | Elementwise less than of series\n",
    "|s.le(s2) | s <= 2  | Elementwise less than or equals of series"
   ]
  },
  {
   "cell_type": "markdown",
   "metadata": {},
   "source": []
  },
  {
   "cell_type": "markdown",
   "metadata": {},
   "source": [
    "|Method|Description|\n",
    "|-|-|\n",
    "|'mad' |Return the mean absolute deviation.|\n",
    "|'max' |Return the maximum value.|\n",
    "|'mean'| Return the mean value.|\n",
    "|'median'| Return the median value.|\n",
    "|'min' |Return the minimum value.|\n",
    "|'nbytes' |Return the number of bytes of the data.|\n",
    "|'ndim' |Return the number of dimensions (1) of the data.|\n",
    "|'nunique' |Return the count of unique values.|\n",
    "|'quantile' |Return the median value. Can override q to specify other quantile.|\n",
    "|'sem' |Return the unbiased standard error.|\n",
    "|'size' |Return the size of the data.|\n",
    "|'skew' |Return the unbiased skew of the data. Negativeindicates tail is on the left side.|\n",
    "|'std' |Return the standard deviation of the data.|\n",
    "|'sum' |Return the sum of the series.|"
   ]
  },
  {
   "cell_type": "markdown",
   "metadata": {},
   "source": [
    "### Series Attributes\n",
    "\n",
    "attributes allow you to inspect and retrieve information about the structure and characteristics of a Pandas Series, which is useful for data analysis and manipulation. You can access these attributes by appending them to a Series object\n",
    "\n",
    "commonly used Pandas Series attributes:\n",
    "\n",
    "1. `index`: Returns the index (row labels) of the Series.\n",
    "2. `values`: Returns the data values of the Series as a NumPy array.\n",
    "3. `name`: Returns or sets the name of the Series.\n",
    "4. `dtype`: Returns the data type of the elements in the Series.\n",
    "5. `size`: Returns the number of elements in the Series.\n",
    "6. `shape`: Returns a tuple representing the shape of the Series (always `(n,)` for a Series).\n",
    "7. `empty`: Returns True if the Series is empty.\n",
    "8. `is_unique`: Returns True if all elements are unique.\n",
    "9. `nunique()`: Returns the number of unique elements.\n",
    "10. `count()`: Returns the number of non-null (non-missing) elements.\n",
    "11. `head(n)`: Returns the first n elements of the Series.\n",
    "12. `tail(n)`: Returns the last n elements of the Series.\n",
    "13. `describe()`: Generates summary statistics for the Series.\n",
    "14. `unique()`: Returns an array of unique elements.\n",
    "15. `min()`: Returns the minimum value in the Series.\n",
    "16. `max()`: Returns the maximum value in the Series.\n",
    "17. `mean()`: Returns the mean (average) value of the Series.\n",
    "18. `median()`: Returns the median value of the Series.\n",
    "19. `std()`: Returns the standard deviation of the Series.\n",
    "20. `var()`: Returns the variance of the Series.\n",
    "21. `sum()`: Returns the sum of all elements in the Series.\n",
    "22. `mode()`: Returns the mode (most frequent) value in the Series.\n",
    "23. `idxmin()`: Returns the index of the minimum value.\n",
    "24. `idxmax()`: Returns the index of the maximum value.\n",
    "25. `apply(func)`: Applies a function to each element in the Series.\n",
    "26. `map(dict_or_func)`: Maps values in the Series to new values using a dictionary or function.\n",
    "27. `value_counts()`: Returns a Series containing counts of unique values.\n",
    "28. `astype(dtype)`: Converts the data type of the Series.\n",
    "29. `sort_values()`: Sorts the Series by values.\n",
    "30. `sort_index()`: Sorts the Series by index labels.\n",
    "31. `isna()` or `isnull()`: Returns a Boolean Series indicating missing values.\n",
    "32. `notna()` or `notnull()`: Returns a Boolean Series indicating non-missing values.\n",
    "33. `str`: Accesses string methods for Series with string data type.\n"
   ]
  },
  {
   "cell_type": "markdown",
   "metadata": {},
   "source": [
    "### Head and Tail\n",
    "\n",
    "The `.head` and `.tail` methods are useful for pulling out values at the start or end of the series,\n",
    "respectively. These methods are used to quickly inspect a chunk of the data."
   ]
  },
  {
   "cell_type": "code",
   "execution_count": 4,
   "metadata": {},
   "outputs": [
    {
     "name": "stdout",
     "output_type": "stream",
     "text": [
      "Collecting pandas\n",
      "  Using cached pandas-2.2.3-cp310-cp310-win_amd64.whl (11.6 MB)\n",
      "Collecting tzdata>=2022.7\n",
      "  Downloading tzdata-2024.2-py2.py3-none-any.whl (346 kB)\n",
      "     -------------------------------------- 346.6/346.6 kB 2.7 MB/s eta 0:00:00\n",
      "Requirement already satisfied: python-dateutil>=2.8.2 in c:\\users\\colli\\appdata\\roaming\\python\\python310\\site-packages (from pandas) (2.9.0.post0)\n",
      "Requirement already satisfied: numpy>=1.22.4 in c:\\users\\colli\\appdata\\local\\programs\\python\\python310\\lib\\site-packages (from pandas) (2.1.2)\n",
      "Collecting pytz>=2020.1\n",
      "  Downloading pytz-2024.2-py2.py3-none-any.whl (508 kB)\n",
      "     -------------------------------------- 508.0/508.0 kB 4.0 MB/s eta 0:00:00\n",
      "Requirement already satisfied: six>=1.5 in c:\\users\\colli\\appdata\\roaming\\python\\python310\\site-packages (from python-dateutil>=2.8.2->pandas) (1.16.0)\n",
      "Installing collected packages: pytz, tzdata, pandas\n",
      "Successfully installed pandas-2.2.3 pytz-2024.2 tzdata-2024.2\n",
      "Note: you may need to restart the kernel to use updated packages.\n"
     ]
    },
    {
     "name": "stderr",
     "output_type": "stream",
     "text": [
      "\n",
      "[notice] A new release of pip available: 22.3.1 -> 24.2\n",
      "[notice] To update, run: python.exe -m pip install --upgrade pip\n"
     ]
    }
   ],
   "source": [
    "%pip install pandas"
   ]
  },
  {
   "cell_type": "code",
   "execution_count": 23,
   "metadata": {},
   "outputs": [
    {
     "data": {
      "text/plain": [
       "0      1\n",
       "1      2\n",
       "2      3\n",
       "3      4\n",
       "4      5\n",
       "5      6\n",
       "6      7\n",
       "7      8\n",
       "8      9\n",
       "9     10\n",
       "10    11\n",
       "11    12\n",
       "dtype: int64"
      ]
     },
     "execution_count": 23,
     "metadata": {},
     "output_type": "execute_result"
    }
   ],
   "source": [
    "import pandas as pd\n",
    "deposit = pd.Series([1,2,3,4,5,6,7,8,9,10,11,12])\n",
    "deposit"
   ]
  },
  {
   "cell_type": "code",
   "execution_count": 24,
   "metadata": {},
   "outputs": [
    {
     "data": {
      "text/plain": [
       "0      1\n",
       "1      2\n",
       "2      3\n",
       "3      4\n",
       "4      5\n",
       "5      6\n",
       "6      7\n",
       "7      8\n",
       "8      9\n",
       "9     10\n",
       "10    11\n",
       "11    12\n",
       "Name: Deposit, dtype: int64"
      ]
     },
     "execution_count": 24,
     "metadata": {},
     "output_type": "execute_result"
    }
   ],
   "source": [
    "deposit = pd.Series([1,2,3,4,5,6,7,8,9,10,11,12], name = \"Deposit\")\n",
    "deposit"
   ]
  },
  {
   "cell_type": "code",
   "execution_count": 25,
   "metadata": {},
   "outputs": [
    {
     "data": {
      "text/plain": [
       "Glen       1\n",
       "Bob        2\n",
       "Chris      3\n",
       "Shirley    4\n",
       "Name: Deposit, dtype: int64"
      ]
     },
     "execution_count": 25,
     "metadata": {},
     "output_type": "execute_result"
    }
   ],
   "source": [
    "deposit = pd.Series([1,2,3,4], name = \"Deposit\", index=[\"Glen\",\"Bob\",\"Chris\",\"Shirley\"])\n",
    "deposit"
   ]
  },
  {
   "cell_type": "code",
   "execution_count": 26,
   "metadata": {},
   "outputs": [
    {
     "data": {
      "text/plain": [
       "Glen    1\n",
       "Bob     2\n",
       "Name: Deposit, dtype: int64"
      ]
     },
     "execution_count": 26,
     "metadata": {},
     "output_type": "execute_result"
    }
   ],
   "source": [
    "deposit.head(2)"
   ]
  },
  {
   "cell_type": "code",
   "execution_count": 27,
   "metadata": {},
   "outputs": [
    {
     "data": {
      "text/plain": [
       "Chris      3\n",
       "Shirley    4\n",
       "Name: Deposit, dtype: int64"
      ]
     },
     "execution_count": 27,
     "metadata": {},
     "output_type": "execute_result"
    }
   ],
   "source": [
    "deposit.tail(2)"
   ]
  },
  {
   "cell_type": "code",
   "execution_count": 28,
   "metadata": {},
   "outputs": [
    {
     "data": {
      "text/plain": [
       "count    4.000000\n",
       "mean     2.500000\n",
       "std      1.290994\n",
       "min      1.000000\n",
       "25%      1.750000\n",
       "50%      2.500000\n",
       "75%      3.250000\n",
       "max      4.000000\n",
       "Name: Deposit, dtype: float64"
      ]
     },
     "execution_count": 28,
     "metadata": {},
     "output_type": "execute_result"
    }
   ],
   "source": [
    "deposit.describe()"
   ]
  },
  {
   "cell_type": "code",
   "execution_count": 7,
   "metadata": {},
   "outputs": [
    {
     "data": {
      "text/html": [
       "<div>\n",
       "<style scoped>\n",
       "    .dataframe tbody tr th:only-of-type {\n",
       "        vertical-align: middle;\n",
       "    }\n",
       "\n",
       "    .dataframe tbody tr th {\n",
       "        vertical-align: top;\n",
       "    }\n",
       "\n",
       "    .dataframe thead th {\n",
       "        text-align: right;\n",
       "    }\n",
       "</style>\n",
       "<table border=\"1\" class=\"dataframe\">\n",
       "  <thead>\n",
       "    <tr style=\"text-align: right;\">\n",
       "      <th></th>\n",
       "      <th>Item_Description</th>\n",
       "      <th>Amount</th>\n",
       "      <th>Traffic_Source</th>\n",
       "      <th>Session_Duration</th>\n",
       "    </tr>\n",
       "  </thead>\n",
       "  <tbody>\n",
       "    <tr>\n",
       "      <th>0</th>\n",
       "      <td>Notebook</td>\n",
       "      <td>20.0</td>\n",
       "      <td>Direct</td>\n",
       "      <td>3,470</td>\n",
       "    </tr>\n",
       "    <tr>\n",
       "      <th>1</th>\n",
       "      <td>Google Hoodie</td>\n",
       "      <td>124.0</td>\n",
       "      <td>Direct</td>\n",
       "      <td>401</td>\n",
       "    </tr>\n",
       "    <tr>\n",
       "      <th>2</th>\n",
       "      <td>Greeting Cards</td>\n",
       "      <td>6.0</td>\n",
       "      <td>Paid Search</td>\n",
       "      <td>2,608</td>\n",
       "    </tr>\n",
       "    <tr>\n",
       "      <th>3</th>\n",
       "      <td>NaN</td>\n",
       "      <td>NaN</td>\n",
       "      <td>NaN</td>\n",
       "      <td>2,130</td>\n",
       "    </tr>\n",
       "    <tr>\n",
       "      <th>4</th>\n",
       "      <td>Lanyard</td>\n",
       "      <td>6.0</td>\n",
       "      <td>Direct</td>\n",
       "      <td>3,517</td>\n",
       "    </tr>\n",
       "  </tbody>\n",
       "</table>\n",
       "</div>"
      ],
      "text/plain": [
       "  Item_Description  Amount Traffic_Source Session_Duration\n",
       "0         Notebook    20.0         Direct            3,470\n",
       "1    Google Hoodie   124.0         Direct              401\n",
       "2   Greeting Cards     6.0    Paid Search            2,608\n",
       "3              NaN     NaN            NaN            2,130\n",
       "4          Lanyard     6.0         Direct            3,517"
      ]
     },
     "execution_count": 7,
     "metadata": {},
     "output_type": "execute_result"
    }
   ],
   "source": [
    "df = pd.read_csv(\"transaction_data.csv\")\n",
    "df.head()"
   ]
  },
  {
   "cell_type": "code",
   "execution_count": 8,
   "metadata": {},
   "outputs": [
    {
     "data": {
      "text/plain": [
       "pandas.core.frame.DataFrame"
      ]
     },
     "execution_count": 8,
     "metadata": {},
     "output_type": "execute_result"
    }
   ],
   "source": [
    "type(df)"
   ]
  },
  {
   "cell_type": "code",
   "execution_count": 9,
   "metadata": {},
   "outputs": [],
   "source": [
    "amount = df[\"Amount\"]"
   ]
  },
  {
   "cell_type": "code",
   "execution_count": 10,
   "metadata": {},
   "outputs": [
    {
     "data": {
      "text/plain": [
       "0        20.0\n",
       "1       124.0\n",
       "2         6.0\n",
       "3         NaN\n",
       "4         6.0\n",
       "        ...  \n",
       "7391     20.0\n",
       "7392      5.0\n",
       "7393    124.0\n",
       "7394    124.0\n",
       "7395    124.0\n",
       "Name: Amount, Length: 7396, dtype: float64"
      ]
     },
     "execution_count": 10,
     "metadata": {},
     "output_type": "execute_result"
    }
   ],
   "source": [
    "amount"
   ]
  },
  {
   "cell_type": "code",
   "execution_count": 11,
   "metadata": {},
   "outputs": [
    {
     "data": {
      "text/plain": [
       "0       False\n",
       "1        True\n",
       "2       False\n",
       "3       False\n",
       "4       False\n",
       "        ...  \n",
       "7391    False\n",
       "7392    False\n",
       "7393     True\n",
       "7394     True\n",
       "7395     True\n",
       "Name: Amount, Length: 7396, dtype: bool"
      ]
     },
     "execution_count": 11,
     "metadata": {},
     "output_type": "execute_result"
    }
   ],
   "source": [
    "amount > 50"
   ]
  },
  {
   "cell_type": "code",
   "execution_count": 12,
   "metadata": {},
   "outputs": [
    {
     "data": {
      "text/plain": [
       "1       124.0\n",
       "6       124.0\n",
       "11      124.0\n",
       "17      124.0\n",
       "18      124.0\n",
       "        ...  \n",
       "7378    115.0\n",
       "7379    124.0\n",
       "7393    124.0\n",
       "7394    124.0\n",
       "7395    124.0\n",
       "Name: Amount, Length: 1707, dtype: float64"
      ]
     },
     "execution_count": 12,
     "metadata": {},
     "output_type": "execute_result"
    }
   ],
   "source": [
    "amount[amount > 50]"
   ]
  },
  {
   "cell_type": "code",
   "execution_count": 15,
   "metadata": {},
   "outputs": [],
   "source": [
    "mask = amount > amount.median()"
   ]
  },
  {
   "cell_type": "code",
   "execution_count": 16,
   "metadata": {},
   "outputs": [
    {
     "data": {
      "text/plain": [
       "0        20.0\n",
       "1       124.0\n",
       "6       124.0\n",
       "11      124.0\n",
       "15       18.0\n",
       "        ...  \n",
       "7388     20.0\n",
       "7391     20.0\n",
       "7393    124.0\n",
       "7394    124.0\n",
       "7395    124.0\n",
       "Name: Amount, Length: 3438, dtype: float64"
      ]
     },
     "execution_count": 16,
     "metadata": {},
     "output_type": "execute_result"
    }
   ],
   "source": [
    "amount[mask]"
   ]
  },
  {
   "cell_type": "code",
   "execution_count": 17,
   "metadata": {},
   "outputs": [
    {
     "data": {
      "text/plain": [
       "0        20.0\n",
       "1       124.0\n",
       "2         6.0\n",
       "3         NaN\n",
       "4         6.0\n",
       "        ...  \n",
       "7391     20.0\n",
       "7392      5.0\n",
       "7393    124.0\n",
       "7394    124.0\n",
       "7395    124.0\n",
       "Name: Amount, Length: 7396, dtype: float64"
      ]
     },
     "execution_count": 17,
     "metadata": {},
     "output_type": "execute_result"
    }
   ],
   "source": [
    "second_amount = amount.copy()\n",
    "second_amount"
   ]
  },
  {
   "cell_type": "code",
   "execution_count": 18,
   "metadata": {},
   "outputs": [
    {
     "data": {
      "text/plain": [
       "0        40.0\n",
       "1       248.0\n",
       "2        12.0\n",
       "3         NaN\n",
       "4        12.0\n",
       "        ...  \n",
       "7391     40.0\n",
       "7392     10.0\n",
       "7393    248.0\n",
       "7394    248.0\n",
       "7395    248.0\n",
       "Name: Amount, Length: 7396, dtype: float64"
      ]
     },
     "execution_count": 18,
     "metadata": {},
     "output_type": "execute_result"
    }
   ],
   "source": [
    "amount + second_amount"
   ]
  },
  {
   "cell_type": "code",
   "execution_count": 19,
   "metadata": {},
   "outputs": [
    {
     "data": {
      "text/plain": [
       "9    10.0\n",
       "2     6.0\n",
       "5     5.0\n",
       "Name: Amount, dtype: float64"
      ]
     },
     "execution_count": 19,
     "metadata": {},
     "output_type": "execute_result"
    }
   ],
   "source": [
    "amount[[9,2,5]]"
   ]
  },
  {
   "cell_type": "code",
   "execution_count": 21,
   "metadata": {},
   "outputs": [
    {
     "data": {
      "text/plain": [
       "100       6.0\n",
       "101      18.0\n",
       "102       5.0\n",
       "103     124.0\n",
       "104     125.0\n",
       "        ...  \n",
       "7391     20.0\n",
       "7392      5.0\n",
       "7393    124.0\n",
       "7394    124.0\n",
       "7395    124.0\n",
       "Name: Amount, Length: 7296, dtype: float64"
      ]
     },
     "execution_count": 21,
     "metadata": {},
     "output_type": "execute_result"
    }
   ],
   "source": [
    "amount[100:]"
   ]
  },
  {
   "cell_type": "code",
   "execution_count": null,
   "metadata": {},
   "outputs": [],
   "source": []
  },
  {
   "cell_type": "markdown",
   "metadata": {},
   "source": [
    "### Indexing \n",
    "\n",
    "\n",
    "Let’s shift the focus onto pulling data out by using indexing operators. You can index directly on\n",
    "a series object, but this is not recommended. Use the `.iloc` or `loc` to index.\n",
    "\n",
    "\n",
    "The `.loc` attribute deals with index labels. It allows you to pull out pieces of the series. You can\n",
    "pass in the following into an index operation on .loc:\n",
    "- A scalar value of one of the index labels\n",
    "- A list of index labels.\n",
    "- A slice of labels (closed interval so it includes the stop value).\n",
    "- An index.\n",
    "- A boolean array (same index labels as the series, but with True or False values.\n",
    "- A function that accepts a series and returns one of the above."
   ]
  },
  {
   "cell_type": "code",
   "execution_count": 29,
   "metadata": {},
   "outputs": [
    {
     "data": {
      "text/plain": [
       "Glen       1\n",
       "Bob        2\n",
       "Chris      3\n",
       "Shirley    4\n",
       "Name: Deposit, dtype: int64"
      ]
     },
     "execution_count": 29,
     "metadata": {},
     "output_type": "execute_result"
    }
   ],
   "source": [
    "deposit"
   ]
  },
  {
   "cell_type": "code",
   "execution_count": 30,
   "metadata": {},
   "outputs": [
    {
     "data": {
      "text/plain": [
       "np.int64(1)"
      ]
     },
     "execution_count": 30,
     "metadata": {},
     "output_type": "execute_result"
    }
   ],
   "source": [
    "# Not recommended\n",
    "deposit[\"Glen\"]"
   ]
  },
  {
   "cell_type": "code",
   "execution_count": 31,
   "metadata": {},
   "outputs": [
    {
     "data": {
      "text/plain": [
       "np.int64(1)"
      ]
     },
     "execution_count": 31,
     "metadata": {},
     "output_type": "execute_result"
    }
   ],
   "source": [
    "# Recommended\n",
    "deposit.loc[\"Glen\"]"
   ]
  },
  {
   "cell_type": "code",
   "execution_count": 32,
   "metadata": {},
   "outputs": [
    {
     "data": {
      "text/plain": [
       "np.int64(1)"
      ]
     },
     "execution_count": 32,
     "metadata": {},
     "output_type": "execute_result"
    }
   ],
   "source": [
    "deposit.iloc[0]"
   ]
  },
  {
   "cell_type": "code",
   "execution_count": 33,
   "metadata": {},
   "outputs": [],
   "source": [
    "import numpy as np\n",
    "another_deposit_amount = pd.Series([1, 10, 60, np.nan], name=\"other_count\")\n",
    "new_deposit_amount = pd.Series([54, 83, 26, 90], name= \"counts\")"
   ]
  },
  {
   "cell_type": "code",
   "execution_count": 34,
   "metadata": {},
   "outputs": [
    {
     "data": {
      "text/plain": [
       "0    55.0\n",
       "1    93.0\n",
       "2    86.0\n",
       "3     NaN\n",
       "dtype: float64"
      ]
     },
     "execution_count": 34,
     "metadata": {},
     "output_type": "execute_result"
    }
   ],
   "source": [
    "new_deposit_amount.add(another_deposit_amount)"
   ]
  },
  {
   "cell_type": "code",
   "execution_count": 35,
   "metadata": {},
   "outputs": [
    {
     "data": {
      "text/plain": [
       "0    55.0\n",
       "1    93.0\n",
       "2    86.0\n",
       "3    90.0\n",
       "dtype: float64"
      ]
     },
     "execution_count": 35,
     "metadata": {},
     "output_type": "execute_result"
    }
   ],
   "source": [
    "new_deposit_amount.add(another_deposit_amount, fill_value= 0)"
   ]
  },
  {
   "cell_type": "code",
   "execution_count": 36,
   "metadata": {},
   "outputs": [
    {
     "data": {
      "text/plain": [
       "np.float64(324.0)"
      ]
     },
     "execution_count": 36,
     "metadata": {},
     "output_type": "execute_result"
    }
   ],
   "source": [
    "(\n",
    "    new_deposit_amount\n",
    "    # Add another\n",
    "    .add(another_deposit_amount, fill_value=0)\n",
    "    # Sum\n",
    "    .sum()\n",
    " \n",
    " )"
   ]
  },
  {
   "cell_type": "code",
   "execution_count": 37,
   "metadata": {},
   "outputs": [
    {
     "data": {
      "text/plain": [
       "np.float64(100.0)"
      ]
     },
     "execution_count": 37,
     "metadata": {},
     "output_type": "execute_result"
    }
   ],
   "source": [
    "(\n",
    "    new_deposit_amount\n",
    "    # Find grt values 25\n",
    "    .gt(25)\n",
    "    # Multiply by 100\n",
    "    .mul(100)\n",
    "    # Mean\n",
    "    .mean()\n",
    "\n",
    "\n",
    ")"
   ]
  },
  {
   "cell_type": "code",
   "execution_count": 41,
   "metadata": {},
   "outputs": [
    {
     "data": {
      "text/plain": [
       "0       False\n",
       "1       False\n",
       "2       False\n",
       "3        True\n",
       "4       False\n",
       "        ...  \n",
       "7391    False\n",
       "7392    False\n",
       "7393    False\n",
       "7394    False\n",
       "7395    False\n",
       "Name: Amount, Length: 7396, dtype: bool"
      ]
     },
     "execution_count": 41,
     "metadata": {},
     "output_type": "execute_result"
    }
   ],
   "source": [
    "amount.isnull()"
   ]
  },
  {
   "cell_type": "code",
   "execution_count": 38,
   "metadata": {},
   "outputs": [
    {
     "data": {
      "text/plain": [
       "0       False\n",
       "1       False\n",
       "2       False\n",
       "3        True\n",
       "4       False\n",
       "        ...  \n",
       "7391    False\n",
       "7392    False\n",
       "7393    False\n",
       "7394    False\n",
       "7395    False\n",
       "Name: Amount, Length: 7396, dtype: bool"
      ]
     },
     "execution_count": 38,
     "metadata": {},
     "output_type": "execute_result"
    }
   ],
   "source": [
    "amount.isna()"
   ]
  },
  {
   "cell_type": "code",
   "execution_count": 42,
   "metadata": {},
   "outputs": [
    {
     "data": {
      "text/plain": [
       "3     NaN\n",
       "137   NaN\n",
       "212   NaN\n",
       "256   NaN\n",
       "334   NaN\n",
       "385   NaN\n",
       "432   NaN\n",
       "474   NaN\n",
       "507   NaN\n",
       "540   NaN\n",
       "597   NaN\n",
       "Name: Amount, dtype: float64"
      ]
     },
     "execution_count": 42,
     "metadata": {},
     "output_type": "execute_result"
    }
   ],
   "source": [
    "amount[amount.isnull()]"
   ]
  },
  {
   "cell_type": "code",
   "execution_count": 39,
   "metadata": {},
   "outputs": [
    {
     "data": {
      "text/plain": [
       "np.int64(11)"
      ]
     },
     "execution_count": 39,
     "metadata": {},
     "output_type": "execute_result"
    }
   ],
   "source": [
    "amount.isna().sum()"
   ]
  },
  {
   "cell_type": "code",
   "execution_count": 40,
   "metadata": {},
   "outputs": [
    {
     "data": {
      "text/plain": [
       "np.float64(0.03853932039363171)"
      ]
     },
     "execution_count": 40,
     "metadata": {},
     "output_type": "execute_result"
    }
   ],
   "source": [
    "(\n",
    "    amount\n",
    "    .isna()\n",
    "    .std()\n",
    ")"
   ]
  },
  {
   "cell_type": "markdown",
   "metadata": {},
   "source": [
    "> If we want to return a series object, we can index it with a list of positions. This can be a list\n",
    "with a single index in it or multiple index values. The following code will return a series with the\n",
    "first, second, and last values:"
   ]
  },
  {
   "cell_type": "markdown",
   "metadata": {},
   "source": [
    "> We can also use slices with .iloc. In this case, slices behave as they do in Python lists and follow\n",
    "the half-open interval. That is, they include the first index and go up to but do not include the last\n",
    "index. If we want to return the first five items, we can use the .head method or the following code,\n",
    "which takes index positions starting at 0 and includes 1, 2, 3, and 4, but does not include 5:"
   ]
  },
  {
   "cell_type": "markdown",
   "metadata": {
    "vscode": {
     "languageId": "plaintext"
    }
   },
   "source": [
    "With the series defined below:\n",
    "\n",
    "```{python}\n",
    "ser = df['Amount']\n",
    "```\n",
    "Find the following:\n",
    "1. Find the count of non-missing values of a series.\n",
    "2. Find the number of entries of a series.\n",
    "3. Find the number of unique entries of a series.\n",
    "4. Find the mean value of a series.\n",
    "5. Find the maximum value of a serf the"
   ]
  },
  {
   "cell_type": "code",
   "execution_count": 49,
   "metadata": {},
   "outputs": [
    {
     "name": "stdout",
     "output_type": "stream",
     "text": [
      "Non missing valuse 7385\n",
      "Total entries 7396\n",
      "Unique entries 9\n",
      "Mean value 35.63236289776574\n",
      "Max value 125.0\n"
     ]
    }
   ],
   "source": [
    "ser = df['Amount']\n",
    "\n",
    "# 1. Count of non-missing values in the series\n",
    "non_missing_count = ser.count()\n",
    "\n",
    "# 2. Total number of entries in the series (including missing values)\n",
    "total_entries = ser.size\n",
    "\n",
    "# 3. Number of unique entries in the series\n",
    "unique_entries = ser.nunique()\n",
    "\n",
    "# 4. Mean value of the series\n",
    "mean_value = ser.mean()\n",
    "\n",
    "# 5. Maximum value of the series\n",
    "max_value = ser.max()\n",
    "\n",
    "# Output the results\n",
    "print(f\"Non missing valuse {non_missing_count}\")\n",
    "print(f\"Total entries {total_entries}\") \n",
    "print(f\"Unique entries {unique_entries}\")\n",
    "print(f\"Mean value {mean_value}\")\n",
    "print(f\"Max value {max_value}\")"
   ]
  },
  {
   "cell_type": "markdown",
   "metadata": {},
   "source": []
  }
 ],
 "metadata": {
  "kernelspec": {
   "display_name": "Python 3 (ipykernel)",
   "language": "python",
   "name": "python3"
  },
  "language_info": {
   "codemirror_mode": {
    "name": "ipython",
    "version": 3
   },
   "file_extension": ".py",
   "mimetype": "text/x-python",
   "name": "python",
   "nbconvert_exporter": "python",
   "pygments_lexer": "ipython3",
   "version": "3.10.9"
  }
 },
 "nbformat": 4,
 "nbformat_minor": 4
}
